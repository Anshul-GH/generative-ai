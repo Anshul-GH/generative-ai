{
 "cells": [
  {
   "cell_type": "code",
   "execution_count": 3,
   "metadata": {},
   "outputs": [],
   "source": [
    "from pdfquery import PDFQuery"
   ]
  },
  {
   "cell_type": "code",
   "execution_count": 5,
   "metadata": {},
   "outputs": [
    {
     "name": "stdout",
     "output_type": "stream",
     "text": [
      "What is PDF? \n",
      "Definition from Wikipedia: \n",
      "Portable Document Format (PDF), standardized as ISO 32000, is a file format developed by Adobe in 1992 to present \n",
      "documents, including text formatting and images, in a manner independent of application software, hardware, and operating \n",
      "systems.[2][3] Based on the PostScript language, each PDF file encapsulates a complete description of a fixed-layout flat \n",
      "document, including the text, fonts, vector graphics, raster images and other information needed to display it. PDF has its \n",
      "roots in \"The Camelot Project\" initiated by Adobe co-founder John Warnock in 1991.[4] \n",
      "\n",
      "PDF files may contain a variety of content besides flat text and graphics including logical structuring elements, interactive \n",
      "elements such as annotations and form-fields, layers, rich media (including video content), three-dimensional objects using \n",
      "U3D or PRC, and various other data formats. The PDF specification also provides for encryption and digital signatures, file \n",
      "attachments, and metadata to enable workflows requiring these features. \n"
     ]
    }
   ],
   "source": [
    "source_file = r\"document\\sample.pdf\"\n",
    "\n",
    "pdf = PDFQuery(source_file)\n",
    "pdf.load()\n",
    "\n",
    "# Use CSS-like selectors to locate the elements\n",
    "text_elements = pdf.pq('LTTextLineHorizontal')\n",
    "\n",
    "# Extract the text from the elements\n",
    "text = [t.text for t in text_elements]\n",
    "\n",
    "for line in text:\n",
    "    print(line)"
   ]
  },
  {
   "cell_type": "code",
   "execution_count": null,
   "metadata": {},
   "outputs": [],
   "source": []
  }
 ],
 "metadata": {
  "kernelspec": {
   "display_name": "py3115",
   "language": "python",
   "name": "python3"
  },
  "language_info": {
   "codemirror_mode": {
    "name": "ipython",
    "version": 3
   },
   "file_extension": ".py",
   "mimetype": "text/x-python",
   "name": "python",
   "nbconvert_exporter": "python",
   "pygments_lexer": "ipython3",
   "version": "3.11.5"
  },
  "orig_nbformat": 4
 },
 "nbformat": 4,
 "nbformat_minor": 2
}
