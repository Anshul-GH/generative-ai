{
 "cells": [
  {
   "cell_type": "code",
   "execution_count": 1,
   "metadata": {},
   "outputs": [],
   "source": [
    "# # !pip install --upgrade opencv-contrib-python\n",
    "# !pip install --upgrade opencv-python"
   ]
  },
  {
   "cell_type": "code",
   "execution_count": 9,
   "metadata": {},
   "outputs": [
    {
     "data": {
      "text/plain": [
       "True"
      ]
     },
     "execution_count": 9,
     "metadata": {},
     "output_type": "execute_result"
    }
   ],
   "source": [
    "import cv2\n",
    "from cv2 import dnn_superres\n",
    "\n",
    "# Create an SR object\n",
    "sr = dnn_superres.DnnSuperResImpl_create()\n",
    "\n",
    "# Read image\n",
    "image = cv2.imread(r\"D:\\Work\\Resume\\image_anshul.jpg\")\n",
    "\n",
    "# Read the desired model\n",
    "path = r\"D:\\Code\\deepfake\\Swap-Mukham\\models\\EDSR_x4.pb\"\n",
    "sr.readModel(path)\n",
    "\n",
    "# Set the desired model and scale to get correct pre- and post-processing\n",
    "sr.setModel(\"edsr\", 3)\n",
    "\n",
    "# Upscale the image\n",
    "result = sr.upsample(image)\n",
    "\n",
    "# Save the image\n",
    "cv2.imwrite(r\"D:\\Work\\Resume\\image_anshul_upscaled.png\", result)"
   ]
  }
 ],
 "metadata": {
  "kernelspec": {
   "display_name": "Python 3",
   "language": "python",
   "name": "python3"
  },
  "language_info": {
   "codemirror_mode": {
    "name": "ipython",
    "version": 3
   },
   "file_extension": ".py",
   "mimetype": "text/x-python",
   "name": "python",
   "nbconvert_exporter": "python",
   "pygments_lexer": "ipython3",
   "version": "3.11.5"
  }
 },
 "nbformat": 4,
 "nbformat_minor": 2
}
